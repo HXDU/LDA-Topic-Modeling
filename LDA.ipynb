{
 "cells": [
  {
   "cell_type": "code",
   "execution_count": 1,
   "metadata": {},
   "outputs": [],
   "source": [
    "filename= \"Y1-2colo.csv\"\n",
    "import pandas as pd\n",
    "import numpy as np\n",
    "import nltk\n",
    "import re\n",
    "import string\n",
    "import codecs"
   ]
  },
  {
   "cell_type": "code",
   "execution_count": 2,
   "metadata": {},
   "outputs": [],
   "source": [
    "url_pattern = r'((http|https)\\S+)' #S= represents all non-space characters until it hits the first space\n",
    "rt_pattern = r'\\brt\\b'\n",
    "name_pattern = r'@\\w+'\n",
    "hashtag_pattern = r'#\\w+'\n",
    "\n",
    "def remove_extra(tweet):\n",
    "    tweet = re.sub(url_pattern, ' ', tweet)\n",
    "    tweet = re.sub(r'\\d','',tweet)\n",
    "    tweet = re.sub(rt_pattern,'', tweet)\n",
    "    tweet = re.sub(name_pattern, '',tweet)\n",
    "    tweet = re.sub(hashtag_pattern, '',tweet)\n",
    "    return tweet \n",
    "\n",
    "def remove_non_ascii(tweet):\n",
    "    return ''.join(i for i in tweet if ord(i) < 128)"
   ]
  },
  {
   "cell_type": "code",
   "execution_count": 3,
   "metadata": {},
   "outputs": [],
   "source": [
    "from nltk.corpus import wordnet as wn\n",
    "# synonym 同义词\n",
    "# lemma 词条\n",
    "def get_lemma(word):\n",
    "    lemma = wn.morphy(word)\n",
    "    #利用morphy查找不在wordnet中的词\n",
    "    if lemma is None:\n",
    "        return word\n",
    "    else:\n",
    "        return lemma\n",
    "\n",
    "from nltk.stem.wordnet import WordNetLemmatizer\n",
    "def get_lemma2(word):\n",
    "    return WordNetLemmatizer().lemmatize(word)\n",
    "\n",
    "en_stop = set(nltk.corpus.stopwords.words('english'))"
   ]
  },
  {
   "cell_type": "code",
   "execution_count": 4,
   "metadata": {},
   "outputs": [],
   "source": [
    "#lower, punctuation, token，lemma\n",
    "def prepare_text_for_lda(text):\n",
    "    text = text.translate(None,string.punctuation)\n",
    "    tokens = nltk.word_tokenize(text)\n",
    "    #tokens = [token for token in tokens if len(token) > 4]\n",
    "    tokens = [token for token in tokens if token not in en_stop]\n",
    "    tokens = [get_lemma(token) for token in tokens]\n",
    "    return tokens"
   ]
  },
  {
   "cell_type": "code",
   "execution_count": 5,
   "metadata": {},
   "outputs": [],
   "source": [
    "H = []\n",
    "F = []\n",
    "with open(filename) as f:\n",
    "    for line in f:\n",
    "        parts = line.split(';')\n",
    "        if len(parts) == 2:\n",
    "            if len(parts[0]) > 1:\n",
    "                #print parts[0]\n",
    "                H.append(parts[0])\n",
    "            if len(parts[1]) > 1:\n",
    "                #print parts[0]\n",
    "                F.append(parts[1])\n",
    "\n",
    "HF = H + F"
   ]
  },
  {
   "cell_type": "code",
   "execution_count": 6,
   "metadata": {},
   "outputs": [],
   "source": [
    "def preprocess_data(data_list):\n",
    "    data = []\n",
    "    for item in data_list:\n",
    "        item = item.lower()\n",
    "        item = remove_non_ascii(item)\n",
    "        item = remove_extra(item)\n",
    "        tokens = prepare_text_for_lda(item)\n",
    "        if len(tokens) > 0:\n",
    "            data.append(tokens)\n",
    "    return data\n",
    "data = preprocess_data(HF)\n",
    "H_data = preprocess_data(H)\n",
    "F_data = preprocess_data(F)"
   ]
  },
  {
   "cell_type": "code",
   "execution_count": 17,
   "metadata": {},
   "outputs": [
    {
     "name": "stdout",
     "output_type": "stream",
     "text": [
      "14201\n"
     ]
    }
   ],
   "source": [
    "count = 0\n",
    "for i in data:\n",
    "    for j in i:\n",
    "        count = count + 1\n",
    "print count"
   ]
  },
  {
   "cell_type": "code",
   "execution_count": 12,
   "metadata": {},
   "outputs": [
    {
     "name": "stdout",
     "output_type": "stream",
     "text": [
      "[['hactiondesc'], [u'practice', 'drawing'], ['yeah'], ['educational', 'habbits'], ['learning', 'job', 'see', 'right'], ['argue', 'alot'], ['caring', u'rabbit', u'dog', 'next', 'year', 'take', 'farming', 'architecture', 'class'], ['better', u'organize', 'things'], ['im', 'joining', 'teamspracticinggoing', 'basketball', 'courtsand', 'working', 'hard', 'achieve'], ['im', 'traning', 'really', 'hard', 'become', 'really', 'good', 'soccer', 'player']]\n"
     ]
    }
   ],
   "source": [
    "print data[:10]"
   ]
  },
  {
   "cell_type": "code",
   "execution_count": 21,
   "metadata": {},
   "outputs": [],
   "source": [
    "from gensim import corpora\n",
    "###For H data#####\n",
    "#dictionary = corpora.Dictionary(H_data) \n",
    "#corpus = [dictionary.doc2bow(text) for text in H_data]\n",
    "\n",
    "#######For F data#####\n",
    "dictionary = corpora.Dictionary(F_data) \n",
    "corpus = [dictionary.doc2bow(text) for text in F_data]\n",
    "\n",
    "###For all data######\n",
    "#dictionary = corpora.Dictionary(F_data) \n",
    "#corpus = [dictionary.doc2bow(text) for text in F_data]\n",
    "\n",
    "import pickle\n",
    "pickle.dump(corpus,open('corpus.pkl','wb'))\n",
    "#dictionary.save('dictionary.gensim')\n"
   ]
  },
  {
   "cell_type": "markdown",
   "metadata": {},
   "source": [
    "**Calculate the coherence values**"
   ]
  },
  {
   "cell_type": "code",
   "execution_count": 8,
   "metadata": {},
   "outputs": [],
   "source": [
    "import gensim"
   ]
  },
  {
   "cell_type": "code",
   "execution_count": 22,
   "metadata": {},
   "outputs": [],
   "source": [
    "co_list = []\n",
    "per_list = []\n",
    "for i in range(1,21):\n",
    "    ldamodel = gensim.models.ldamodel.LdaModel(corpus,num_topics = i, id2word = dictionary, passes =  50)\n",
    "    per = ldamodel.log_perplexity(corpus)\n",
    "    per_list.append(per)\n",
    "    #cohe_ldamodel = gensim.models.CoherenceModel(model = ldamodel, corpus = corpus, coherence = 'u_mass')\n",
    "    cohe_ldamodel = gensim.models.CoherenceModel(model = ldamodel, texts = data, corpus = corpus, coherence = 'c_v')\n",
    "    score = cohe_ldamodel.get_coherence()\n",
    "    co_list.append(score)"
   ]
  },
  {
   "cell_type": "code",
   "execution_count": 23,
   "metadata": {},
   "outputs": [
    {
     "name": "stdout",
     "output_type": "stream",
     "text": [
      "20\n",
      "[0.21462011066452638, 0.37794365219977744, 0.40255373594866833, 0.4214573862371664, 0.3897565306900616, 0.4167067904249617, 0.40570290269605946, 0.35665983707383137, 0.4017803790208568, 0.44189610089138387, 0.3864791221672522, 0.41210540439362225, 0.40065285619926605, 0.42010118003680497, 0.40318005479932845, 0.38512629169363155, 0.412783531042599, 0.3786598880109675, 0.40370342577827917, 0.4145438024582783]\n"
     ]
    }
   ],
   "source": [
    "print len(co_list)\n",
    "print co_list"
   ]
  },
  {
   "cell_type": "code",
   "execution_count": 24,
   "metadata": {},
   "outputs": [
    {
     "name": "stdout",
     "output_type": "stream",
     "text": [
      "20\n",
      "[-5.530128605663776, -5.611469291711747, -5.741813444087882, -5.746900032729566, -5.8041564655192, -5.8753115425366715, -5.934889723865574, -5.942157333836606, -5.981087251744444, -5.975804008628526, -6.0075586121244555, -6.036540587087279, -6.028917067768557, -6.064114650269456, -6.1086595726886594, -6.120716945689853, -6.105456378463512, -6.133394943270176, -6.157896330784372, -6.162306512535401]\n"
     ]
    }
   ],
   "source": [
    "print len(per_list)\n",
    "print per_list"
   ]
  },
  {
   "cell_type": "code",
   "execution_count": 25,
   "metadata": {},
   "outputs": [
    {
     "name": "stdout",
     "output_type": "stream",
     "text": [
      "[1, 2, 3, 4, 5, 6, 7, 8, 9, 10, 11, 12, 13, 14, 15, 16, 17, 18, 19, 20]\n"
     ]
    }
   ],
   "source": [
    "x = []\n",
    "for i in range(1,21):\n",
    "    x.append(i)\n",
    "print x"
   ]
  },
  {
   "cell_type": "code",
   "execution_count": 27,
   "metadata": {},
   "outputs": [
    {
     "data": {
      "image/png": "[encoded data removed]",
      "text/plain": [
       "<Figure size 576x432 with 1 Axes>"
      ]
     },
     "metadata": {
      "needs_background": "light"
     },
     "output_type": "display_data"
    }
   ],
   "source": [
    "%matplotlib inline\n",
    "import matplotlib.pyplot as plt\n",
    "#plt.style.use('ggplot')\n",
    "plt.figure(figsize=(8,6))\n",
    "\n",
    "plt.plot(x,co_list, '-or', color = '#D2691E', label = 'coherence')\n",
    "plt.legend()\n",
    "#plt.plot(x,per_list, '-or', color = 'steelblue', label = 'coherence')\n",
    "plt.xlabel('Number of topics', fontsize = 15)\n",
    "plt.title('coherence under c_v')\n",
    "plt.xticks(x)\n",
    "#plt.savefig('coherenceforF.png')"
   ]
  },
  {
   "cell_type": "code",
   "execution_count": 30,
   "metadata": {},
   "outputs": [],
   "source": [
    "import gensim\n",
    "NUM_TOPICS = 10\n",
    "\n",
    "ldamodel = gensim.models.ldamodel.LdaModel(corpus,num_topics = NUM_TOPICS, id2word = dictionary, passes = 50)\n",
    "#ldamodel.save('model.gensim')\n"
   ]
  },
  {
   "cell_type": "code",
   "execution_count": 31,
   "metadata": {},
   "outputs": [
    {
     "data": {
      "text/plain": [
       "[(0,\n",
       "  u'0.070*\"anything\" + 0.053*\"like\" + 0.046*\"dont\" + 0.038*\"job\" + 0.037*\"avoid\" + 0.032*\"im\" + 0.021*\"much\" + 0.020*\"go\" + 0.015*\"going\" + 0.015*\"ocean\"'),\n",
       " (1,\n",
       "  u'0.130*\"school\" + 0.053*\"work\" + 0.047*\"hard\" + 0.039*\"going\" + 0.038*\"go\" + 0.036*\"studying\" + 0.034*\"job\" + 0.026*\"try\" + 0.022*\"get\" + 0.020*\"stay\"'),\n",
       " (2,\n",
       "  u'0.069*\"try\" + 0.057*\"job\" + 0.053*\"nothing\" + 0.040*\"im\" + 0.026*\"learning\" + 0.022*\"learn\" + 0.017*\"things\" + 0.016*\"afraid\" + 0.016*\"help\" + 0.015*\"best\"'),\n",
       " (3,\n",
       "  u'0.148*\"good\" + 0.141*\"grade\" + 0.098*\"getting\" + 0.041*\"get\" + 0.035*\"school\" + 0.031*\"stay\" + 0.022*\"away\" + 0.010*\"im\" + 0.009*\"people\" + 0.009*\"cook\"'),\n",
       " (4,\n",
       "  u'0.089*\"hard\" + 0.088*\"working\" + 0.064*\"school\" + 0.040*\"good\" + 0.038*\"get\" + 0.037*\"grade\" + 0.033*\"job\" + 0.028*\"try\" + 0.020*\"im\" + 0.020*\"dont\"'),\n",
       " (5,\n",
       "  u'0.132*\"get\" + 0.108*\"good\" + 0.077*\"job\" + 0.070*\"education\" + 0.064*\"try\" + 0.045*\"getting\" + 0.026*\"grade\" + 0.021*\"school\" + 0.017*\"college\" + 0.017*\"im\"'),\n",
       " (6,\n",
       "  u'0.217*\"dont\" + 0.176*\"know\" + 0.030*\"want\" + 0.025*\"im\" + 0.020*\"making\" + 0.020*\"sure\" + 0.015*\"become\" + 0.014*\"hate\" + 0.013*\"playing\" + 0.012*\"teacher\"'),\n",
       " (7,\n",
       "  u'0.058*\"want\" + 0.053*\"job\" + 0.035*\"dont\" + 0.031*\"yes\" + 0.030*\"doctor\" + 0.029*\"try\" + 0.023*\"like\" + 0.021*\"things\" + 0.017*\"think\" + 0.017*\"going\"'),\n",
       " (8,\n",
       "  u'0.065*\"job\" + 0.027*\"career\" + 0.019*\"like\" + 0.019*\"idk\" + 0.017*\"want\" + 0.016*\"avoid\" + 0.016*\"something\" + 0.016*\"different\" + 0.013*\"class\" + 0.013*\"acting\"'),\n",
       " (9,\n",
       "  u'0.074*\"job\" + 0.053*\"fear\" + 0.039*\"school\" + 0.037*\"pay\" + 0.035*\"dont\" + 0.026*\"thinking\" + 0.024*\"learn\" + 0.023*\"attention\" + 0.022*\"class\" + 0.017*\"well\"')]"
      ]
     },
     "execution_count": 31,
     "metadata": {},
     "output_type": "execute_result"
    }
   ],
   "source": [
    "ldamodel.print_topics(num_words = 10)"
   ]
  },
  {
   "cell_type": "code",
   "execution_count": 8,
   "metadata": {},
   "outputs": [],
   "source": [
    "from collections import Counter"
   ]
  },
  {
   "cell_type": "code",
   "execution_count": 19,
   "metadata": {},
   "outputs": [],
   "source": [
    "def listOfList_to_counter(datas): \n",
    "    data_str = []\n",
    "    for i in datas:\n",
    "        for j in i:\n",
    "            data_str.append(j)\n",
    "    return Counter(data_str)"
   ]
  },
  {
   "cell_type": "code",
   "execution_count": 20,
   "metadata": {},
   "outputs": [],
   "source": [
    "data_counter = listOfList_to_counter(data)\n",
    "H_counter = listOfList_to_counter(H_data)\n",
    "F_counter = listOfList_to_counter(F_data)"
   ]
  },
  {
   "cell_type": "code",
   "execution_count": 21,
   "metadata": {},
   "outputs": [
    {
     "data": {
      "text/plain": [
       "[('get', 411),\n",
       " ('school', 371),\n",
       " ('job', 340),\n",
       " ('good', 336),\n",
       " (u'try', 308),\n",
       " ('im', 307),\n",
       " (u'practice', 272),\n",
       " (u'grade', 220),\n",
       " ('hard', 176),\n",
       " ('dont', 175),\n",
       " ('getting', 163),\n",
       " ('learning', 155),\n",
       " ('help', 155),\n",
       " ('working', 138),\n",
       " ('going', 132),\n",
       " ('go', 129),\n",
       " ('want', 124),\n",
       " ('work', 121),\n",
       " ('like', 121),\n",
       " ('class', 120)]"
      ]
     },
     "execution_count": 21,
     "metadata": {},
     "output_type": "execute_result"
    }
   ],
   "source": [
    "data_counter.most_common(20)"
   ]
  },
  {
   "cell_type": "code",
   "execution_count": 22,
   "metadata": {},
   "outputs": [
    {
     "data": {
      "text/plain": [
       "[(u'practice', 260),\n",
       " ('get', 238),\n",
       " ('im', 217),\n",
       " ('school', 189),\n",
       " (u'try', 180),\n",
       " ('good', 158),\n",
       " ('help', 139),\n",
       " ('learning', 133),\n",
       " ('job', 122),\n",
       " (u'grade', 109),\n",
       " ('play', 107),\n",
       " ('class', 98),\n",
       " ('going', 86),\n",
       " ('hard', 85),\n",
       " ('make', 82),\n",
       " ('also', 82),\n",
       " ('playing', 80),\n",
       " ('better', 78),\n",
       " ('things', 78),\n",
       " ('working', 78)]"
      ]
     },
     "execution_count": 22,
     "metadata": {},
     "output_type": "execute_result"
    }
   ],
   "source": [
    "H_counter.most_common(20)"
   ]
  },
  {
   "cell_type": "code",
   "execution_count": 23,
   "metadata": {},
   "outputs": [
    {
     "data": {
      "text/plain": [
       "[('job', 218),\n",
       " ('school', 182),\n",
       " ('good', 178),\n",
       " ('get', 173),\n",
       " ('dont', 152),\n",
       " (u'try', 128),\n",
       " (u'grade', 111),\n",
       " ('hard', 91),\n",
       " ('getting', 91),\n",
       " ('im', 90),\n",
       " ('want', 72),\n",
       " ('know', 71),\n",
       " ('working', 60),\n",
       " ('education', 56),\n",
       " ('go', 52),\n",
       " ('work', 48),\n",
       " ('going', 46),\n",
       " ('avoid', 46),\n",
       " ('like', 43),\n",
       " (u'stay', 35)]"
      ]
     },
     "execution_count": 23,
     "metadata": {},
     "output_type": "execute_result"
    }
   ],
   "source": [
    "F_counter.most_common(20)"
   ]
  },
  {
   "cell_type": "code",
   "execution_count": null,
   "metadata": {},
   "outputs": [],
   "source": []
  }
 ],
 "metadata": {
  "kernelspec": {
   "display_name": "Python 2",
   "language": "python",
   "name": "python2"
  },
  "language_info": {
   "codemirror_mode": {
    "name": "ipython",
    "version": 2
   },
   "file_extension": ".py",
   "mimetype": "text/x-python",
   "name": "python",
   "nbconvert_exporter": "python",
   "pygments_lexer": "ipython2",
   "version": "2.7.15"
  }
 },
 "nbformat": 4,
 "nbformat_minor": 2
}
