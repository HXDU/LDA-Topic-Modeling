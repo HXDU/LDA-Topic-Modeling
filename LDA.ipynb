{
 "cells": [
  {
   "cell_type": "code",
   "execution_count": 1,
   "metadata": {},
   "outputs": [],
   "source": [
    "filename= \"Y1-2colo.csv\"\n",
    "import pandas as pd\n",
    "import numpy as np\n",
    "import nltk\n",
    "import re\n",
    "import string\n",
    "import codecs"
   ]
  },
  {
   "cell_type": "markdown",
   "metadata": {},
   "source": [
    "**To transfer dataFrame to a csv file even with non-ascii characters**"
   ]
  },
  {
   "cell_type": "code",
   "execution_count": 3,
   "metadata": {},
   "outputs": [],
   "source": [
    "df = pd.read_excel('Y1 CVUSD WoW Student Survey V2.xlsx')"
   ]
  },
  {
   "cell_type": "code",
   "execution_count": 5,
   "metadata": {},
   "outputs": [],
   "source": [
    "df.to_csv('out.csv', sep = '\\t', encoding='utf-8')"
   ]
  },
  {
   "cell_type": "markdown",
   "metadata": {},
   "source": [
    "**Data Preprocessing**"
   ]
  },
  {
   "cell_type": "code",
   "execution_count": 2,
   "metadata": {},
   "outputs": [],
   "source": [
    "url_pattern = r'((http|https)\\S+)' #S= represents all non-space characters until it hits the first space\n",
    "rt_pattern = r'\\brt\\b'\n",
    "name_pattern = r'@\\w+'\n",
    "hashtag_pattern = r'#\\w+'\n",
    "\n",
    "def remove_extra(tweet):\n",
    "    tweet = re.sub(url_pattern, ' ', tweet)\n",
    "    tweet = re.sub(r'\\d','',tweet)\n",
    "    tweet = re.sub(rt_pattern,'', tweet)\n",
    "    tweet = re.sub(name_pattern, '',tweet)\n",
    "    tweet = re.sub(hashtag_pattern, '',tweet)\n",
    "    return tweet \n",
    "\n",
    "def remove_non_ascii(tweet):\n",
    "    return ''.join(i for i in tweet if ord(i) < 128)"
   ]
  },
  {
   "cell_type": "code",
   "execution_count": 3,
   "metadata": {},
   "outputs": [],
   "source": [
    "from nltk.corpus import wordnet as wn\n",
    "# synonym 同义词\n",
    "# lemma 词条\n",
    "def get_lemma(word):\n",
    "    lemma = wn.morphy(word)\n",
    "    #利用morphy查找不在wordnet中的词\n",
    "    if lemma is None:\n",
    "        return word\n",
    "    else:\n",
    "        return lemma\n",
    "\n",
    "from nltk.stem.wordnet import WordNetLemmatizer\n",
    "def get_lemma2(word):\n",
    "    return WordNetLemmatizer().lemmatize(word)\n",
    "\n",
    "en_stop = set(nltk.corpus.stopwords.words('english'))"
   ]
  },
  {
   "cell_type": "code",
   "execution_count": 4,
   "metadata": {},
   "outputs": [],
   "source": [
    "#lower, punctuation, token，lemma\n",
    "def prepare_text_for_lda(text):\n",
    "    text = text.translate(None,string.punctuation)\n",
    "    tokens = nltk.word_tokenize(text)\n",
    "    #tokens = [token for token in tokens if len(token) > 4]\n",
    "    tokens = [token for token in tokens if token not in en_stop]\n",
    "    tokens = [get_lemma(token) for token in tokens]\n",
    "    return tokens"
   ]
  },
  {
   "cell_type": "code",
   "execution_count": 12,
   "metadata": {},
   "outputs": [],
   "source": [
    "H_male = []\n",
    "H_female = []\n",
    "\n",
    "F_male = []\n",
    "F_female = []\n",
    "with open(filename) as f:\n",
    "    for line in f:\n",
    "        parts = line.split(';')\n",
    "        if len(parts) == 4:\n",
    "            #To seperate by FP\n",
    "            #if parts[0] == \n",
    "            #To seperate by gender\n",
    "            if parts[1] == 'M':\n",
    "                if len(parts[2]) > 1:\n",
    "                    H_male.append(parts[2])\n",
    "                if len(parts[3]) > 1:\n",
    "                    F_male.append(parts[3])\n",
    "            if parts[1] == 'F':\n",
    "                if len(parts[2]) > 1:\n",
    "                    H_female.append(parts[2])\n",
    "                if len(parts[3]) > 1:\n",
    "                    F_female.append(parts[3])\n",
    "HF = H_male + H_female + F_male + F_female"
   ]
  },
  {
   "cell_type": "code",
   "execution_count": 7,
   "metadata": {},
   "outputs": [
    {
     "name": "stdout",
     "output_type": "stream",
     "text": [
      "394\n"
     ]
    }
   ],
   "source": [
    "print len(F_female)"
   ]
  },
  {
   "cell_type": "code",
   "execution_count": 13,
   "metadata": {},
   "outputs": [],
   "source": [
    "def preprocess_data(data_list):\n",
    "    data = []\n",
    "    for item in data_list:\n",
    "        item = item.lower()\n",
    "        item = remove_non_ascii(item)\n",
    "        item = remove_extra(item)\n",
    "        tokens = prepare_text_for_lda(item)\n",
    "        if len(tokens) > 0:\n",
    "            data.append(tokens)\n",
    "    return data\n",
    "data = preprocess_data(HF)\n",
    "H_male_data = preprocess_data(H_male)\n",
    "H_female_data = preprocess_data(H_female)\n",
    "F_male_data = preprocess_data(F_male)\n",
    "F_female_data = preprocess_data(F_female)"
   ]
  },
  {
   "cell_type": "code",
   "execution_count": 14,
   "metadata": {},
   "outputs": [
    {
     "name": "stdout",
     "output_type": "stream",
     "text": [
      "14094\n"
     ]
    }
   ],
   "source": [
    "count = 0\n",
    "for i in data:\n",
    "    for j in i:\n",
    "        count = count + 1\n",
    "print count"
   ]
  },
  {
   "cell_type": "code",
   "execution_count": 15,
   "metadata": {},
   "outputs": [
    {
     "name": "stdout",
     "output_type": "stream",
     "text": [
      "[[u'practice', 'drawing'], ['yeah'], ['argue', 'alot'], ['better', u'organize', 'things'], ['im', 'traning', 'really', 'hard', 'become', 'really', 'good', 'soccer', 'player'], ['helping', 'construction'], ['tryharding'], ['track', 'right', u'begin', 'training', 'long', 'ago'], ['playing', u'game', 'recording'], ['right', 'im', 'soccer', 'team', u'name', u'hotspur', 'train', u'get', 'keep', 'playing', 'try', 'best', 'make', 'soccer', 'team', 'highschool']]\n"
     ]
    }
   ],
   "source": [
    "print data[:10]"
   ]
  },
  {
   "cell_type": "markdown",
   "metadata": {},
   "source": [
    "**LDA topic modeling**"
   ]
  },
  {
   "cell_type": "code",
   "execution_count": 37,
   "metadata": {},
   "outputs": [],
   "source": [
    "from gensim import corpora\n",
    "###For H data#####\n",
    "dictionary = corpora.Dictionary(H_female_data) \n",
    "corpus = [dictionary.doc2bow(text) for text in H_female_data]\n",
    "\n",
    "#######For F data#####\n",
    "#dictionary = corpora.Dictionary(F_female_data) \n",
    "#corpus = [dictionary.doc2bow(text) for text in F_female_data]\n",
    "\n",
    "###For all data######\n",
    "#dictionary = corpora.Dictionary(F_data) \n",
    "#corpus = [dictionary.doc2bow(text) for text in F_data]\n",
    "\n",
    "import pickle\n",
    "pickle.dump(corpus,open('corpus.pkl','wb'))\n",
    "#dictionary.save('dictionary.gensim')\n"
   ]
  },
  {
   "cell_type": "markdown",
   "metadata": {},
   "source": [
    "**Calculate the coherence values**"
   ]
  },
  {
   "cell_type": "code",
   "execution_count": 10,
   "metadata": {},
   "outputs": [],
   "source": [
    "import gensim"
   ]
  },
  {
   "cell_type": "code",
   "execution_count": 38,
   "metadata": {},
   "outputs": [],
   "source": [
    "co_list = []\n",
    "per_list = []\n",
    "topics_list = []\n",
    "for i in range(1,21):\n",
    "    ldamodel = gensim.models.ldamodel.LdaModel(corpus,num_topics = i, id2word = dictionary, passes =  50)\n",
    "    per = ldamodel.log_perplexity(corpus)\n",
    "    per_list.append(per)\n",
    "    topics_list.append(ldamodel.print_topics(num_words = 10))\n",
    "    #cohe_ldamodel = gensim.models.CoherenceModel(model = ldamodel, corpus = corpus, coherence = 'u_mass')\n",
    "    cohe_ldamodel = gensim.models.CoherenceModel(model = ldamodel, texts = data, corpus = corpus, coherence = 'c_v')\n",
    "    score = cohe_ldamodel.get_coherence()\n",
    "    co_list.append(score)"
   ]
  },
  {
   "cell_type": "code",
   "execution_count": 17,
   "metadata": {},
   "outputs": [
    {
     "name": "stdout",
     "output_type": "stream",
     "text": [
      "20\n",
      "[0.1990445288505393, 0.39373986901455515, 0.4135938091901472, 0.42774821787138917, 0.42148622772767697, 0.41150456401724084, 0.4442256867401468, 0.3842244799968032, 0.4016010117037856, 0.3932475303333175, 0.3662413789095394, 0.40046970717578806, 0.38062427370517027, 0.3981687074215155, 0.37040804240318326, 0.39397563732362106, 0.3764551635831892, 0.3899938801513031, 0.3797089334989046, 0.3911999886800628]\n"
     ]
    }
   ],
   "source": [
    "print len(co_list)\n",
    "print co_list"
   ]
  },
  {
   "cell_type": "code",
   "execution_count": 18,
   "metadata": {},
   "outputs": [
    {
     "name": "stdout",
     "output_type": "stream",
     "text": [
      "20\n",
      "[-5.394453375894656, -5.5298201755908085, -5.598874710846737, -5.692161528545552, -5.856379172563881, -5.815529103248962, -5.905554456328773, -5.923746424831369, -5.879584916093199, -5.973526155109016, -6.042132844977414, -5.988661576136671, -6.03020659109041, -6.068359066676908, -6.103349790674176, -6.0749161528578695, -6.08623545393546, -6.090888150298727, -6.138938951468669, -6.148194885437505]\n"
     ]
    }
   ],
   "source": [
    "print len(per_list)\n",
    "print per_list"
   ]
  },
  {
   "cell_type": "code",
   "execution_count": 19,
   "metadata": {},
   "outputs": [
    {
     "name": "stdout",
     "output_type": "stream",
     "text": [
      "[1, 2, 3, 4, 5, 6, 7, 8, 9, 10, 11, 12, 13, 14, 15, 16, 17, 18, 19, 20]\n"
     ]
    }
   ],
   "source": [
    "x = []\n",
    "for i in range(1,21):\n",
    "    x.append(i)\n",
    "print x"
   ]
  },
  {
   "cell_type": "code",
   "execution_count": 40,
   "metadata": {},
   "outputs": [
    {
     "data": {
      "image/png": "[encoded data removed]",
      "text/plain": [
       "<Figure size 576x432 with 1 Axes>"
      ]
     },
     "metadata": {
      "needs_background": "light"
     },
     "output_type": "display_data"
    }
   ],
   "source": [
    "%matplotlib inline\n",
    "import matplotlib.pyplot as plt\n",
    "#plt.style.use('ggplot')\n",
    "plt.figure(figsize=(8,6))\n",
    "\n",
    "plt.plot(x,co_list, '-or', color = '#D2691E', label = 'coherence')\n",
    "plt.legend()\n",
    "#plt.plot(x,per_list, '-or', color = 'steelblue', label = 'coherence')\n",
    "plt.xlabel('Number of topics for H_female', fontsize = 15)\n",
    "plt.title('coherence under c_v')\n",
    "plt.xticks(x)\n",
    "plt.savefig('coherenceforH_female.png')"
   ]
  },
  {
   "cell_type": "code",
   "execution_count": 41,
   "metadata": {},
   "outputs": [
    {
     "name": "stdout",
     "output_type": "stream",
     "text": [
      "[(0, u'0.038*\"get\" + 0.034*\"try\" + 0.031*\"school\" + 0.029*\"good\" + 0.024*\"im\" + 0.024*\"grade\" + 0.018*\"hard\" + 0.016*\"help\" + 0.015*\"class\" + 0.013*\"learn\"'), (1, u'0.043*\"practice\" + 0.016*\"help\" + 0.015*\"go\" + 0.015*\"job\" + 0.012*\"play\" + 0.012*\"need\" + 0.011*\"singing\" + 0.011*\"know\" + 0.010*\"learning\" + 0.010*\"art\"'), (2, u'0.020*\"im\" + 0.017*\"learning\" + 0.016*\"take\" + 0.015*\"taking\" + 0.014*\"animal\" + 0.013*\"also\" + 0.012*\"make\" + 0.011*\"care\" + 0.010*\"people\" + 0.010*\"get\"')]\n"
     ]
    }
   ],
   "source": [
    "print topics_list[2]"
   ]
  },
  {
   "cell_type": "code",
   "execution_count": null,
   "metadata": {},
   "outputs": [],
   "source": []
  },
  {
   "cell_type": "markdown",
   "metadata": {},
   "source": [
    "**Get a counter**"
   ]
  },
  {
   "cell_type": "code",
   "execution_count": 8,
   "metadata": {},
   "outputs": [],
   "source": [
    "from collections import Counter"
   ]
  },
  {
   "cell_type": "code",
   "execution_count": 19,
   "metadata": {},
   "outputs": [],
   "source": [
    "def listOfList_to_counter(datas): \n",
    "    data_str = []\n",
    "    for i in datas:\n",
    "        for j in i:\n",
    "            data_str.append(j)\n",
    "    return Counter(data_str)"
   ]
  },
  {
   "cell_type": "code",
   "execution_count": 20,
   "metadata": {},
   "outputs": [],
   "source": [
    "data_counter = listOfList_to_counter(data)\n",
    "H_counter = listOfList_to_counter(H_data)\n",
    "F_counter = listOfList_to_counter(F_data)"
   ]
  },
  {
   "cell_type": "code",
   "execution_count": 21,
   "metadata": {},
   "outputs": [
    {
     "data": {
      "text/plain": [
       "[('get', 411),\n",
       " ('school', 371),\n",
       " ('job', 340),\n",
       " ('good', 336),\n",
       " (u'try', 308),\n",
       " ('im', 307),\n",
       " (u'practice', 272),\n",
       " (u'grade', 220),\n",
       " ('hard', 176),\n",
       " ('dont', 175),\n",
       " ('getting', 163),\n",
       " ('learning', 155),\n",
       " ('help', 155),\n",
       " ('working', 138),\n",
       " ('going', 132),\n",
       " ('go', 129),\n",
       " ('want', 124),\n",
       " ('work', 121),\n",
       " ('like', 121),\n",
       " ('class', 120)]"
      ]
     },
     "execution_count": 21,
     "metadata": {},
     "output_type": "execute_result"
    }
   ],
   "source": [
    "data_counter.most_common(20)"
   ]
  },
  {
   "cell_type": "code",
   "execution_count": 22,
   "metadata": {},
   "outputs": [
    {
     "data": {
      "text/plain": [
       "[(u'practice', 260),\n",
       " ('get', 238),\n",
       " ('im', 217),\n",
       " ('school', 189),\n",
       " (u'try', 180),\n",
       " ('good', 158),\n",
       " ('help', 139),\n",
       " ('learning', 133),\n",
       " ('job', 122),\n",
       " (u'grade', 109),\n",
       " ('play', 107),\n",
       " ('class', 98),\n",
       " ('going', 86),\n",
       " ('hard', 85),\n",
       " ('make', 82),\n",
       " ('also', 82),\n",
       " ('playing', 80),\n",
       " ('better', 78),\n",
       " ('things', 78),\n",
       " ('working', 78)]"
      ]
     },
     "execution_count": 22,
     "metadata": {},
     "output_type": "execute_result"
    }
   ],
   "source": [
    "H_counter.most_common(20)"
   ]
  },
  {
   "cell_type": "code",
   "execution_count": 23,
   "metadata": {},
   "outputs": [
    {
     "data": {
      "text/plain": [
       "[('job', 218),\n",
       " ('school', 182),\n",
       " ('good', 178),\n",
       " ('get', 173),\n",
       " ('dont', 152),\n",
       " (u'try', 128),\n",
       " (u'grade', 111),\n",
       " ('hard', 91),\n",
       " ('getting', 91),\n",
       " ('im', 90),\n",
       " ('want', 72),\n",
       " ('know', 71),\n",
       " ('working', 60),\n",
       " ('education', 56),\n",
       " ('go', 52),\n",
       " ('work', 48),\n",
       " ('going', 46),\n",
       " ('avoid', 46),\n",
       " ('like', 43),\n",
       " (u'stay', 35)]"
      ]
     },
     "execution_count": 23,
     "metadata": {},
     "output_type": "execute_result"
    }
   ],
   "source": [
    "F_counter.most_common(20)"
   ]
  },
  {
   "cell_type": "code",
   "execution_count": null,
   "metadata": {},
   "outputs": [],
   "source": []
  }
 ],
 "metadata": {
  "kernelspec": {
   "display_name": "Python 2",
   "language": "python",
   "name": "python2"
  },
  "language_info": {
   "codemirror_mode": {
    "name": "ipython",
    "version": 2
   },
   "file_extension": ".py",
   "mimetype": "text/x-python",
   "name": "python",
   "nbconvert_exporter": "python",
   "pygments_lexer": "ipython2",
   "version": "2.7.15"
  }
 },
 "nbformat": 4,
 "nbformat_minor": 2
}
